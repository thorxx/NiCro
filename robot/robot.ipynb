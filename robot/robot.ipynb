{
 "cells": [
  {
   "cell_type": "code",
   "execution_count": 1,
   "metadata": {
    "pycharm": {
     "name": "#%%\n"
    }
   },
   "outputs": [],
   "source": [
    "from robot_control import RobotController\n",
    "import os\n",
    "import cv2"
   ]
  },
  {
   "cell_type": "code",
   "execution_count": 2,
   "metadata": {
    "pycharm": {
     "name": "#%%\n"
    }
   },
   "outputs": [],
   "source": [
    "robot = RobotController(speed=100000)"
   ]
  },
  {
   "cell_type": "code",
   "execution_count": 3,
   "metadata": {
    "pycharm": {
     "name": "#%%\n"
    }
   },
   "outputs": [
    {
     "name": "stderr",
     "output_type": "stream",
     "text": [
      "[D 220501 09:54:23 robot_control:21] Loading Robot Drivers...\n"
     ]
    }
   ],
   "source": [
    "robot.reset()"
   ]
  },
  {
   "cell_type": "code",
   "execution_count": 4,
   "metadata": {
    "pycharm": {
     "name": "#%%\n"
    }
   },
   "outputs": [
    {
     "name": "stderr",
     "output_type": "stream",
     "text": [
      "[D 220501 09:54:40 robot_control:36] Robot Click X: 200, Y:50\n",
      "[D 220501 09:54:40 robot_control:21] Loading Robot Drivers...\n"
     ]
    }
   ],
   "source": [
    "robot.click((200,50,20))"
   ]
  },
  {
   "cell_type": "code",
   "execution_count": 5,
   "metadata": {
    "pycharm": {
     "name": "#%%\n"
    }
   },
   "outputs": [
    {
     "name": "stderr",
     "output_type": "stream",
     "text": [
      "[D 220501 09:54:47 robot_control:21] Loading Robot Drivers...\n"
     ]
    }
   ],
   "source": [
    "robot.longPress((200,50,20))"
   ]
  },
  {
   "cell_type": "code",
   "execution_count": 6,
   "metadata": {
    "pycharm": {
     "name": "#%%\n"
    }
   },
   "outputs": [
    {
     "name": "stderr",
     "output_type": "stream",
     "text": [
      "[D 220501 09:54:50 robot_control:21] Loading Robot Drivers...\n"
     ]
    }
   ],
   "source": [
    "robot.doubleclick((200,0,12))"
   ]
  },
  {
   "cell_type": "code",
   "execution_count": 18,
   "metadata": {
    "pycharm": {
     "name": "#%%\n"
    }
   },
   "outputs": [
    {
     "name": "stderr",
     "output_type": "stream",
     "text": [
      "[D 220501 09:56:39 robot_control:21] Loading Robot Drivers...\n"
     ]
    }
   ],
   "source": [
    "robot.swipe((150, 50, 17), (250, 50, 17), swipe_speed=20000)"
   ]
  },
  {
   "cell_type": "code",
   "execution_count": 33,
   "metadata": {
    "pycharm": {
     "name": "#%%\n"
    }
   },
   "outputs": [
    {
     "name": "stderr",
     "output_type": "stream",
     "text": [
      "[D 220501 09:42:15 robot_control:21] Loading Robot Drivers...\n"
     ]
    }
   ],
   "source": [
    "robot.reset()"
   ]
  },
  {
   "cell_type": "code",
   "execution_count": null,
   "metadata": {
    "pycharm": {
     "name": "#%%\n"
    }
   },
   "outputs": [],
   "source": []
  },
  {
   "cell_type": "code",
   "execution_count": 6,
   "metadata": {
    "pycharm": {
     "name": "#%%\n"
    }
   },
   "outputs": [
    {
     "name": "stdout",
     "output_type": "stream",
     "text": [
      "[ERROR] 2022-02-25 10:41:44 [/usr/local/lib/python3.6/dist-packages/uArm_Python_SDK-2.0.6-py3.6.egg/uarm/swift/utils.py:29]: uArm is not connect\n"
     ]
    }
   ],
   "source": [
    "robot.close_connect()"
   ]
  },
  {
   "cell_type": "code",
   "execution_count": 3,
   "metadata": {
    "pycharm": {
     "name": "#%%\n"
    }
   },
   "outputs": [
    {
     "name": "stdout",
     "output_type": "stream",
     "text": [
      "[ERROR] 2022-04-30 16:26:58 [/home/ml/Code/github/Robot-Visual-Testing/robot/uarm/swift/utils.py:29]: uArm is not connect\n",
      "[ERROR] 2022-04-30 16:26:58 [/home/ml/Code/github/Robot-Visual-Testing/robot/uarm/swift/utils.py:29]: uArm is not connect\n",
      "[ERROR] 2022-04-30 16:26:59 [/home/ml/Code/github/Robot-Visual-Testing/robot/uarm/swift/utils.py:29]: uArm is not connect\n",
      "[ERROR] 2022-04-30 16:26:59 [/home/ml/Code/github/Robot-Visual-Testing/robot/uarm/swift/utils.py:29]: uArm is not connect\n",
      "[ERROR] 2022-04-30 16:26:59 [/home/ml/Code/github/Robot-Visual-Testing/robot/uarm/swift/utils.py:29]: uArm is not connect\n",
      "[ERROR] 2022-04-30 16:26:59 [/home/ml/Code/github/Robot-Visual-Testing/robot/uarm/swift/utils.py:29]: uArm is not connect\n",
      "[ERROR] 2022-04-30 16:26:59 [/home/ml/Code/github/Robot-Visual-Testing/robot/uarm/swift/utils.py:29]: uArm is not connect\n",
      "[ERROR] 2022-04-30 16:27:00 [/home/ml/Code/github/Robot-Visual-Testing/robot/uarm/swift/utils.py:29]: uArm is not connect\n",
      "[ERROR] 2022-04-30 16:27:00 [/home/ml/Code/github/Robot-Visual-Testing/robot/uarm/swift/utils.py:29]: uArm is not connect\n",
      "[ERROR] 2022-04-30 16:27:00 [/home/ml/Code/github/Robot-Visual-Testing/robot/uarm/swift/utils.py:29]: uArm is not connect\n",
      "[ERROR] 2022-04-30 16:27:00 [/home/ml/Code/github/Robot-Visual-Testing/robot/uarm/swift/utils.py:29]: uArm is not connect\n",
      "[ERROR] 2022-04-30 16:27:00 [/home/ml/Code/github/Robot-Visual-Testing/robot/uarm/swift/utils.py:29]: uArm is not connect\n",
      "[ERROR] 2022-04-30 16:27:01 [/home/ml/Code/github/Robot-Visual-Testing/robot/uarm/swift/utils.py:29]: uArm is not connect\n",
      "[ERROR] 2022-04-30 16:27:01 [/home/ml/Code/github/Robot-Visual-Testing/robot/uarm/swift/utils.py:29]: uArm is not connect\n",
      "[ERROR] 2022-04-30 16:27:01 [/home/ml/Code/github/Robot-Visual-Testing/robot/uarm/swift/utils.py:29]: uArm is not connect\n",
      "[ERROR] 2022-04-30 16:27:01 [/home/ml/Code/github/Robot-Visual-Testing/robot/uarm/swift/utils.py:29]: uArm is not connect\n",
      "[ERROR] 2022-04-30 16:27:01 [/home/ml/Code/github/Robot-Visual-Testing/robot/uarm/swift/utils.py:29]: uArm is not connect\n",
      "[ERROR] 2022-04-30 16:27:02 [/home/ml/Code/github/Robot-Visual-Testing/robot/uarm/swift/utils.py:29]: uArm is not connect\n",
      "[ERROR] 2022-04-30 16:27:02 [/home/ml/Code/github/Robot-Visual-Testing/robot/uarm/swift/utils.py:29]: uArm is not connect\n",
      "[ERROR] 2022-04-30 16:27:02 [/home/ml/Code/github/Robot-Visual-Testing/robot/uarm/swift/utils.py:29]: uArm is not connect\n",
      "[ERROR] 2022-04-30 16:27:02 [/home/ml/Code/github/Robot-Visual-Testing/robot/uarm/swift/utils.py:29]: uArm is not connect\n",
      "[ERROR] 2022-04-30 16:27:02 [/home/ml/Code/github/Robot-Visual-Testing/robot/uarm/swift/utils.py:29]: uArm is not connect\n"
     ]
    }
   ],
   "source": [
    "# *************************************************\n",
    "# *** Mark the Actual Distance of Robot Metrics ***\n",
    "# *************************************************\n",
    "\n",
    "def nothing(x):\n",
    "    pass\n",
    "\n",
    "cv2.namedWindow('coor')\n",
    "cv2.createTrackbar('x', 'coor', 120, 300, nothing)\n",
    "cv2.setTrackbarMin('x', 'coor', 120)\n",
    "cv2.createTrackbar('y', 'coor', 0, 100, nothing)\n",
    "cv2.setTrackbarMin('y', 'coor', -100)\n",
    "cv2.createTrackbar('z', 'coor', 20, 50, nothing)\n",
    "cv2.setTrackbarMin('z', 'coor', 13)\n",
    "\n",
    "cap = cv2.VideoCapture(0)\n",
    "cap.set(cv2.CAP_PROP_FRAME_WIDTH, 1000)\n",
    "cap.set(cv2.CAP_PROP_FRAME_HEIGHT, 500)\n",
    "\n",
    "while 1:\n",
    "    x = cv2.getTrackbarPos('x', 'coor')\n",
    "    y = cv2.getTrackbarPos('y', 'coor')    \n",
    "    z = cv2.getTrackbarPos('z', 'coor')    \n",
    "        \n",
    "    robot.swift.set_position(x=x, y=y, z=z, speed=2000, wait=False, timeout=10, cmd='G0')\n",
    "    robot.swift.flush_cmd()\n",
    "    \n",
    "    ret, frame = cap.read()\n",
    "    frame = cv2.transpose(frame)\n",
    "    frame = cv2.flip(frame, -1)\n",
    "    cv2.imshow('frame', frame)\n",
    "    if cv2.waitKey(100) == ord('q'):\n",
    "        break\n",
    "cap.release()\n",
    "cv2.destroyAllWindows()"
   ]
  },
  {
   "cell_type": "code",
   "execution_count": null,
   "metadata": {
    "pycharm": {
     "name": "#%%\n"
    }
   },
   "outputs": [],
   "source": []
  },
  {
   "cell_type": "code",
   "execution_count": 5,
   "metadata": {
    "pycharm": {
     "name": "#%%\n"
    }
   },
   "outputs": [
    {
     "name": "stdout",
     "output_type": "stream",
     "text": [
      "Clicked Point:(510,433) Robot:(205,-52)\n"
     ]
    },
    {
     "name": "stderr",
     "output_type": "stream",
     "text": [
      "[D 220425 15:30:49 robot_control:36] Robot Click X: 205, Y:-52\n",
      "[D 220425 15:30:49 robot_control:21] Loading Robot Drivers...\n"
     ]
    },
    {
     "name": "stdout",
     "output_type": "stream",
     "text": [
      "Clicked Point:(259,652) Robot:(156,2)\n"
     ]
    },
    {
     "name": "stderr",
     "output_type": "stream",
     "text": [
      "[D 220425 15:31:07 robot_control:36] Robot Click X: 156, Y:2\n",
      "[D 220425 15:31:07 robot_control:21] Loading Robot Drivers...\n"
     ]
    },
    {
     "name": "stdout",
     "output_type": "stream",
     "text": [
      "Clicked Point:(260,652) Robot:(156,2)\n"
     ]
    },
    {
     "name": "stderr",
     "output_type": "stream",
     "text": [
      "[D 220425 15:31:12 robot_control:36] Robot Click X: 156, Y:2\n",
      "[D 220425 15:31:12 robot_control:21] Loading Robot Drivers...\n"
     ]
    },
    {
     "name": "stdout",
     "output_type": "stream",
     "text": [
      "Clicked Point:(463,115) Robot:(275,-42)\n"
     ]
    },
    {
     "name": "stderr",
     "output_type": "stream",
     "text": [
      "[D 220425 15:31:19 robot_control:36] Robot Click X: 275, Y:-42\n",
      "[D 220425 15:31:19 robot_control:21] Loading Robot Drivers...\n"
     ]
    },
    {
     "name": "stdout",
     "output_type": "stream",
     "text": [
      "Clicked Point:(352,644) Robot:(158,-18)\n"
     ]
    },
    {
     "name": "stderr",
     "output_type": "stream",
     "text": [
      "[D 220425 15:31:27 robot_control:36] Robot Click X: 158, Y:-18\n",
      "[D 220425 15:31:27 robot_control:21] Loading Robot Drivers...\n"
     ]
    },
    {
     "name": "stdout",
     "output_type": "stream",
     "text": [
      "Clicked Point:(350,648) Robot:(157,-17)\n"
     ]
    },
    {
     "name": "stderr",
     "output_type": "stream",
     "text": [
      "[D 220425 15:31:31 robot_control:36] Robot Click X: 157, Y:-17\n",
      "[D 220425 15:31:31 robot_control:21] Loading Robot Drivers...\n"
     ]
    },
    {
     "name": "stdout",
     "output_type": "stream",
     "text": [
      "Clicked Point:(210,642) Robot:(159,13)\n"
     ]
    },
    {
     "name": "stderr",
     "output_type": "stream",
     "text": [
      "[D 220425 15:31:43 robot_control:36] Robot Click X: 159, Y:13\n",
      "[D 220425 15:31:43 robot_control:21] Loading Robot Drivers...\n"
     ]
    }
   ],
   "source": [
    "# *********************************************\n",
    "# *** Calibrate the Click on Window & Robot ***\n",
    "# *********************************************\n",
    "\n",
    "robot_y2img_x = round(120/540, 2)  # y_robot : x_img = 130: 540\n",
    "robot_x2img_y = round((298-120)/820, 2)  # x_robot : y_img = 310: 820\n",
    "\n",
    "def click_event(event, x, y, flags, params):\n",
    "    if event == cv2.EVENT_LBUTTONDOWN:\n",
    "        x_r, y_r = cvt_cor_to_robot(x, y)\n",
    "        print('Clicked Point:(%d,%d) Robot:(%d,%d)' %(x, y, x_r, y_r))\n",
    "#         robot.swift.set_position(x=x_r, y=y_r, z=20, speed=2000, wait=False, timeout=10, cmd='G0')\n",
    "#         robot.swift.flush_cmd()\n",
    "        robot.click((x_r, y_r, 20))\n",
    "        \n",
    "\n",
    "def cvt_cor_to_robot(x_img, y_img):\n",
    "    x_robot = int((820 - y_img) * robot_x2img_y) + 120\n",
    "    y_robot = int((270 - x_img) * robot_y2img_x)\n",
    "    return x_robot, y_robot\n",
    "\n",
    "        \n",
    "cap = cv2.VideoCapture(0)\n",
    "cap.set(cv2.CAP_PROP_FRAME_WIDTH, 1000)\n",
    "cap.set(cv2.CAP_PROP_FRAME_HEIGHT, 500)\n",
    "\n",
    "while(1):\n",
    "    ret, frame = cap.read()\n",
    "    frame = cv2.rotate(frame, cv2.cv2.ROTATE_90_CLOCKWISE)\n",
    "    \n",
    "    # clip the camera to fit the robot cor system\n",
    "    frame = frame[80:900, :]\n",
    "    \n",
    "    # get the click point on the image    \n",
    "    cv2.imshow('video', frame)\n",
    "    cv2.setMouseCallback('video', click_event)\n",
    "    \n",
    "    if cv2.waitKey(1) == ord('q'):\n",
    "        break\n",
    "    if cv2.waitKey(1) == ord('s'):\n",
    "        pass\n",
    "cap.release()\n",
    "cv2.destroyAllWindows()"
   ]
  },
  {
   "cell_type": "code",
   "execution_count": 16,
   "metadata": {
    "pycharm": {
     "name": "#%%\n"
    }
   },
   "outputs": [],
   "source": [
    "robot.close_connect()"
   ]
  },
  {
   "cell_type": "code",
   "execution_count": 8,
   "metadata": {
    "pycharm": {
     "name": "#%%\n"
    }
   },
   "outputs": [],
   "source": []
  },
  {
   "cell_type": "code",
   "execution_count": 6,
   "metadata": {
    "pycharm": {
     "name": "#%%\n"
    }
   },
   "outputs": [
    {
     "name": "stdout",
     "output_type": "stream",
     "text": [
      "[1]\n"
     ]
    }
   ],
   "source": [
    "def f():\n",
    "    def t(param):\n",
    "        param[0] = 1\n",
    "    x = [0]\n",
    "    t(x)\n",
    "    print(x)\n",
    "f()"
   ]
  },
  {
   "cell_type": "code",
   "execution_count": null,
   "metadata": {
    "pycharm": {
     "name": "#%%\n"
    }
   },
   "outputs": [],
   "source": []
  }
 ],
 "metadata": {
  "kernelspec": {
   "display_name": "Python 3",
   "language": "python",
   "name": "python3"
  },
  "language_info": {
   "codemirror_mode": {
    "name": "ipython",
    "version": 3
   },
   "file_extension": ".py",
   "mimetype": "text/x-python",
   "name": "python",
   "nbconvert_exporter": "python",
   "pygments_lexer": "ipython3",
   "version": "3.5.6"
  }
 },
 "nbformat": 4,
 "nbformat_minor": 5
}